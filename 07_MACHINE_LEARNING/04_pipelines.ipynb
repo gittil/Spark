{
 "cells": [
  {
   "cell_type": "code",
   "execution_count": 1,
   "metadata": {},
   "outputs": [],
   "source": [
    "from pyspark.ml.regression import LinearRegression\n",
    "from pyspark.ml.feature import VectorAssembler\n",
    "from pyspark.sql import SparkSession"
   ]
  },
  {
   "cell_type": "code",
   "execution_count": 2,
   "metadata": {},
   "outputs": [],
   "source": [
    "spark = SparkSession.builder.master(\"local\").\\\n",
    "    appName(\"CNPJ\").\\\n",
    "        config(\"spark.executer.memory\",\"1gb\").\\\n",
    "            getOrCreate()"
   ]
  },
  {
   "cell_type": "code",
   "execution_count": 3,
   "metadata": {},
   "outputs": [],
   "source": [
    "carros_temp = spark.read.csv(\"D:\\downloads\\Carros.csv\", inferSchema=True, header=True, sep=\";\")"
   ]
  },
  {
   "cell_type": "code",
   "execution_count": 4,
   "metadata": {},
   "outputs": [],
   "source": [
    "carros = carros_temp.select(\"Consumo\",\"Cilindros\",\"Cilindradas\",\"HP\")"
   ]
  },
  {
   "cell_type": "code",
   "execution_count": 5,
   "metadata": {},
   "outputs": [
    {
     "name": "stdout",
     "output_type": "stream",
     "text": [
      "+-------+---------+-----------+---+\n",
      "|Consumo|Cilindros|Cilindradas| HP|\n",
      "+-------+---------+-----------+---+\n",
      "|     21|        6|        160|110|\n",
      "|     21|        6|        160|110|\n",
      "|    228|        4|        108| 93|\n",
      "|    214|        6|        258|110|\n",
      "|    187|        8|        360|175|\n",
      "|    181|        6|        225|105|\n",
      "|    143|        8|        360|245|\n",
      "|    244|        4|       1467| 62|\n",
      "|    228|        4|       1408| 95|\n",
      "|    192|        6|       1676|123|\n",
      "|    178|        6|       1676|123|\n",
      "|    164|        8|       2758|180|\n",
      "|    173|        8|       2758|180|\n",
      "|    152|        8|       2758|180|\n",
      "|    104|        8|        472|205|\n",
      "|    104|        8|        460|215|\n",
      "|    147|        8|        440|230|\n",
      "|    324|        4|        787| 66|\n",
      "|    304|        4|        757| 52|\n",
      "|    339|        4|        711| 65|\n",
      "+-------+---------+-----------+---+\n",
      "only showing top 20 rows\n",
      "\n"
     ]
    }
   ],
   "source": [
    "carros.show()"
   ]
  },
  {
   "cell_type": "code",
   "execution_count": 6,
   "metadata": {},
   "outputs": [],
   "source": [
    "vecCaracteristias = VectorAssembler(inputCols=[(\"Consumo\"),(\"Cilindros\"),(\"Cilindradas\")],outputCol=\"caracteristicas\")"
   ]
  },
  {
   "cell_type": "code",
   "execution_count": 7,
   "metadata": {},
   "outputs": [],
   "source": [
    "vecCarrosTreino = vecCaracteristias.transform(carros)"
   ]
  },
  {
   "cell_type": "code",
   "execution_count": 8,
   "metadata": {},
   "outputs": [
    {
     "name": "stdout",
     "output_type": "stream",
     "text": [
      "+-------+---------+-----------+---+------------------+\n",
      "|Consumo|Cilindros|Cilindradas| HP|   caracteristicas|\n",
      "+-------+---------+-----------+---+------------------+\n",
      "|     21|        6|        160|110|  [21.0,6.0,160.0]|\n",
      "|     21|        6|        160|110|  [21.0,6.0,160.0]|\n",
      "|    228|        4|        108| 93| [228.0,4.0,108.0]|\n",
      "|    214|        6|        258|110| [214.0,6.0,258.0]|\n",
      "|    187|        8|        360|175| [187.0,8.0,360.0]|\n",
      "|    181|        6|        225|105| [181.0,6.0,225.0]|\n",
      "|    143|        8|        360|245| [143.0,8.0,360.0]|\n",
      "|    244|        4|       1467| 62|[244.0,4.0,1467.0]|\n",
      "|    228|        4|       1408| 95|[228.0,4.0,1408.0]|\n",
      "|    192|        6|       1676|123|[192.0,6.0,1676.0]|\n",
      "|    178|        6|       1676|123|[178.0,6.0,1676.0]|\n",
      "|    164|        8|       2758|180|[164.0,8.0,2758.0]|\n",
      "|    173|        8|       2758|180|[173.0,8.0,2758.0]|\n",
      "|    152|        8|       2758|180|[152.0,8.0,2758.0]|\n",
      "|    104|        8|        472|205| [104.0,8.0,472.0]|\n",
      "|    104|        8|        460|215| [104.0,8.0,460.0]|\n",
      "|    147|        8|        440|230| [147.0,8.0,440.0]|\n",
      "|    324|        4|        787| 66| [324.0,4.0,787.0]|\n",
      "|    304|        4|        757| 52| [304.0,4.0,757.0]|\n",
      "|    339|        4|        711| 65| [339.0,4.0,711.0]|\n",
      "+-------+---------+-----------+---+------------------+\n",
      "only showing top 20 rows\n",
      "\n"
     ]
    }
   ],
   "source": [
    "vecCarrosTreino.show()"
   ]
  },
  {
   "cell_type": "code",
   "execution_count": 9,
   "metadata": {},
   "outputs": [],
   "source": [
    "reglin = LinearRegression(featuresCol=\"caracteristicas\",labelCol=\"HP\")"
   ]
  },
  {
   "cell_type": "code",
   "execution_count": 10,
   "metadata": {},
   "outputs": [],
   "source": [
    "modelo = reglin.fit(vecCarrosTreino)"
   ]
  },
  {
   "cell_type": "markdown",
   "metadata": {},
   "source": [
    "## Criando um Pipeline"
   ]
  },
  {
   "cell_type": "code",
   "execution_count": 11,
   "metadata": {},
   "outputs": [],
   "source": [
    "from pyspark.ml import Pipeline"
   ]
  },
  {
   "cell_type": "code",
   "execution_count": 12,
   "metadata": {},
   "outputs": [],
   "source": [
    "pipeline = Pipeline(stages=[vecCaracteristias,reglin])"
   ]
  },
  {
   "cell_type": "code",
   "execution_count": 13,
   "metadata": {},
   "outputs": [],
   "source": [
    "pipelineModel = pipeline.fit(carros)"
   ]
  },
  {
   "cell_type": "code",
   "execution_count": 14,
   "metadata": {},
   "outputs": [],
   "source": [
    "previsao = pipelineModel.transform(carros)"
   ]
  },
  {
   "cell_type": "code",
   "execution_count": 15,
   "metadata": {},
   "outputs": [
    {
     "name": "stdout",
     "output_type": "stream",
     "text": [
      "+-------+---------+-----------+---+------------------+------------------+\n",
      "|Consumo|Cilindros|Cilindradas| HP|   caracteristicas|        prediction|\n",
      "+-------+---------+-----------+---+------------------+------------------+\n",
      "|     21|        6|        160|110|  [21.0,6.0,160.0]|162.32154816816646|\n",
      "|     21|        6|        160|110|  [21.0,6.0,160.0]|162.32154816816646|\n",
      "|    228|        4|        108| 93| [228.0,4.0,108.0]| 82.51715587712931|\n",
      "|    214|        6|        258|110| [214.0,6.0,258.0]|141.86680518718754|\n",
      "|    187|        8|        360|175| [187.0,8.0,360.0]|202.93528239714834|\n",
      "|    181|        6|        225|105| [181.0,6.0,225.0]| 145.4980634611832|\n",
      "|    143|        8|        360|245| [143.0,8.0,360.0]|   207.41448530972|\n",
      "|    244|        4|       1467| 62|[244.0,4.0,1467.0]| 69.69282676584851|\n",
      "|    228|        4|       1408| 95|[228.0,4.0,1408.0]| 71.80767356085781|\n",
      "|    192|        6|       1676|123|[192.0,6.0,1676.0]|132.42483285541724|\n",
      "|    178|        6|       1676|123|[178.0,6.0,1676.0]|133.85003378214458|\n",
      "|    164|        8|       2758|180|[164.0,8.0,2758.0]|185.52180807776818|\n",
      "|    173|        8|       2758|180|[173.0,8.0,2758.0]|184.60560748201488|\n",
      "|    152|        8|       2758|180|[152.0,8.0,2758.0]| 186.7434088721059|\n",
      "|    104|        8|        472|205| [104.0,8.0,472.0]| 210.4620247994542|\n",
      "|    104|        8|        460|215| [104.0,8.0,460.0]|210.56088155929672|\n",
      "|    147|        8|        440|230| [147.0,8.0,440.0]|206.34823997932406|\n",
      "|    324|        4|        787| 66| [324.0,4.0,787.0]| 67.15070452800569|\n",
      "|    304|        4|        757| 52| [304.0,4.0,757.0]| 69.43384775150815|\n",
      "|    339|        4|        711| 65| [339.0,4.0,711.0]| 66.24979634741939|\n",
      "+-------+---------+-----------+---+------------------+------------------+\n",
      "only showing top 20 rows\n",
      "\n"
     ]
    }
   ],
   "source": [
    "previsao.show()"
   ]
  }
 ],
 "metadata": {
  "interpreter": {
   "hash": "71046af2f65c12de5be553af3af49a03a0746b5ef2338e39a62aea16fa296259"
  },
  "kernelspec": {
   "display_name": "Python 3.10.1 64-bit",
   "language": "python",
   "name": "python3"
  },
  "language_info": {
   "codemirror_mode": {
    "name": "ipython",
    "version": 3
   },
   "file_extension": ".py",
   "mimetype": "text/x-python",
   "name": "python",
   "nbconvert_exporter": "python",
   "pygments_lexer": "ipython3",
   "version": "3.10.1"
  },
  "orig_nbformat": 4
 },
 "nbformat": 4,
 "nbformat_minor": 2
}
