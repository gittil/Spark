{
 "cells": [
  {
   "cell_type": "code",
   "execution_count": 2,
   "metadata": {},
   "outputs": [],
   "source": [
    "from pyspark.sql import SparkSession"
   ]
  },
  {
   "cell_type": "code",
   "execution_count": 3,
   "metadata": {},
   "outputs": [],
   "source": [
    "#iniciando uma Spark Session\n",
    "spark = SparkSession.builder \\\n",
    "    .master(\"local\") \\\n",
    "        .appName(\"bancos_e_tabelas\") \\\n",
    "            .config(\"spark.driver.memory\",\"1g\") \\\n",
    "                .getOrCreate()"
   ]
  },
  {
   "cell_type": "code",
   "execution_count": 4,
   "metadata": {},
   "outputs": [
    {
     "name": "stdout",
     "output_type": "stream",
     "text": [
      "+---------+\n",
      "|namespace|\n",
      "+---------+\n",
      "|  default|\n",
      "+---------+\n",
      "\n"
     ]
    }
   ],
   "source": [
    "#visualizando os DB que temos\n",
    "spark.sql(\"show databases\").show()"
   ]
  },
  {
   "cell_type": "code",
   "execution_count": 5,
   "metadata": {},
   "outputs": [
    {
     "data": {
      "text/plain": [
       "DataFrame[]"
      ]
     },
     "execution_count": 5,
     "metadata": {},
     "output_type": "execute_result"
    }
   ],
   "source": [
    "#criando um DB\n",
    "spark.sql(\"create database desp\")"
   ]
  },
  {
   "cell_type": "code",
   "execution_count": 6,
   "metadata": {},
   "outputs": [
    {
     "name": "stdout",
     "output_type": "stream",
     "text": [
      "+---------+\n",
      "|namespace|\n",
      "+---------+\n",
      "|  default|\n",
      "|     desp|\n",
      "+---------+\n",
      "\n"
     ]
    }
   ],
   "source": [
    "spark.sql(\"show databases\").show()"
   ]
  },
  {
   "cell_type": "code",
   "execution_count": 7,
   "metadata": {},
   "outputs": [
    {
     "data": {
      "text/plain": [
       "DataFrame[]"
      ]
     },
     "execution_count": 7,
     "metadata": {},
     "output_type": "execute_result"
    }
   ],
   "source": [
    "#apontando qual DB vamos usar\n",
    "spark.sql(\"use desp\")"
   ]
  },
  {
   "cell_type": "code",
   "execution_count": 16,
   "metadata": {},
   "outputs": [],
   "source": [
    "churn = spark.read.csv(\"D:\\downloads\\Churn.csv\", header=True, inferSchema=True, sep=\";\")"
   ]
  },
  {
   "cell_type": "code",
   "execution_count": 17,
   "metadata": {},
   "outputs": [
    {
     "name": "stdout",
     "output_type": "stream",
     "text": [
      "+-----------+---------+------+---+------+--------+-------------+---------+--------------+---------------+------+\n",
      "|CreditScore|Geography|Gender|Age|Tenure| Balance|NumOfProducts|HasCrCard|IsActiveMember|EstimatedSalary|Exited|\n",
      "+-----------+---------+------+---+------+--------+-------------+---------+--------------+---------------+------+\n",
      "|        619|   France|Female| 42|     2|       0|            1|        1|             1|       10134888|     1|\n",
      "|        608|    Spain|Female| 41|     1| 8380786|            1|        0|             1|       11254258|     0|\n",
      "|        502|   France|Female| 42|     8| 1596608|            3|        1|             0|       11393157|     1|\n",
      "|        699|   France|Female| 39|     1|       0|            2|        0|             0|        9382663|     0|\n",
      "|        850|    Spain|Female| 43|     2|12551082|            1|        1|             1|         790841|     0|\n",
      "+-----------+---------+------+---+------+--------+-------------+---------+--------------+---------------+------+\n",
      "only showing top 5 rows\n",
      "\n"
     ]
    }
   ],
   "source": [
    "churn.show(5)"
   ]
  },
  {
   "cell_type": "code",
   "execution_count": 18,
   "metadata": {},
   "outputs": [],
   "source": [
    "#salvando em uma tabela gerenciada com particionamento geográfico\n",
    "churn.write.partitionBy(\"Geography\").saveAsTable(\"Churn_Geo\")"
   ]
  },
  {
   "cell_type": "code",
   "execution_count": 19,
   "metadata": {},
   "outputs": [
    {
     "name": "stdout",
     "output_type": "stream",
     "text": [
      "+-----------+------+---+------+--------+-------------+---------+--------------+---------------+------+---------+\n",
      "|CreditScore|Gender|Age|Tenure| Balance|NumOfProducts|HasCrCard|IsActiveMember|EstimatedSalary|Exited|Geography|\n",
      "+-----------+------+---+------+--------+-------------+---------+--------------+---------------+------+---------+\n",
      "|        619|Female| 42|     2|       0|            1|        1|             1|       10134888|     1|   France|\n",
      "|        502|Female| 42|     8| 1596608|            3|        1|             0|       11393157|     1|   France|\n",
      "|        699|Female| 39|     1|       0|            2|        0|             0|        9382663|     0|   France|\n",
      "|        822|  Male| 50|     7|       0|            2|        1|             1|         100628|     0|   France|\n",
      "|        501|  Male| 44|     4|14205107|            2|        0|             1|         749405|     0|   France|\n",
      "+-----------+------+---+------+--------+-------------+---------+--------------+---------------+------+---------+\n",
      "only showing top 5 rows\n",
      "\n"
     ]
    }
   ],
   "source": [
    "spark.sql(\"select * from Churn_Geo\").show(5)"
   ]
  },
  {
   "cell_type": "code",
   "execution_count": 20,
   "metadata": {},
   "outputs": [],
   "source": [
    "#salvando em uma tabela gerenciada com bucketing\n",
    "churn.write.bucketBy(3,\"Geography\").saveAsTable(\"Churn_Geo2\")"
   ]
  },
  {
   "cell_type": "code",
   "execution_count": 22,
   "metadata": {},
   "outputs": [
    {
     "name": "stdout",
     "output_type": "stream",
     "text": [
      "+-----------+---------+------+---+------+--------+-------------+---------+--------------+---------------+------+\n",
      "|CreditScore|Geography|Gender|Age|Tenure| Balance|NumOfProducts|HasCrCard|IsActiveMember|EstimatedSalary|Exited|\n",
      "+-----------+---------+------+---+------+--------+-------------+---------+--------------+---------------+------+\n",
      "|        619|   France|Female| 42|     2|       0|            1|        1|             1|       10134888|     1|\n",
      "|        608|    Spain|Female| 41|     1| 8380786|            1|        0|             1|       11254258|     0|\n",
      "|        502|   France|Female| 42|     8| 1596608|            3|        1|             0|       11393157|     1|\n",
      "|        699|   France|Female| 39|     1|       0|            2|        0|             0|        9382663|     0|\n",
      "|        850|    Spain|Female| 43|     2|12551082|            1|        1|             1|         790841|     0|\n",
      "|        645|    Spain|  Male| 44|     8|11375578|            2|        1|             0|       14975671|     1|\n",
      "|        822|   France|  Male| 50|     7|       0|            2|        1|             1|         100628|     0|\n",
      "|        501|   France|  Male| 44|     4|14205107|            2|        0|             1|         749405|     0|\n",
      "|        684|   France|  Male| 27|     2|13460388|            1|        1|             1|        7172573|     0|\n",
      "|        528|   France|  Male| 31|     6|10201672|            2|        0|             0|        8018112|     0|\n",
      "|        497|    Spain|  Male| 24|     3|       0|            2|        1|             0|        7639001|     0|\n",
      "|        476|   France|Female| 34|    10|       0|            2|        1|             0|        2626098|     0|\n",
      "|        549|   France|Female| 25|     5|       0|            2|        0|             0|       19085779|     0|\n",
      "|        635|    Spain|Female| 35|     7|       0|            2|        1|             1|        6595165|     0|\n",
      "|        549|    Spain|Female| 24|     9|       0|            2|        1|             1|        1440641|     0|\n",
      "|        587|    Spain|  Male| 45|     6|       0|            1|        0|             0|       15868481|     0|\n",
      "|        726|   France|Female| 24|     6|       0|            2|        1|             1|        5472403|     0|\n",
      "|        732|   France|  Male| 41|     8|       0|            2|        1|             1|       17088617|     0|\n",
      "|        636|    Spain|Female| 32|     8|       0|            2|        1|             0|       13855546|     0|\n",
      "|        510|    Spain|Female| 38|     4|       0|            1|        1|             0|       11891353|     1|\n",
      "+-----------+---------+------+---+------+--------+-------------+---------+--------------+---------------+------+\n",
      "only showing top 20 rows\n",
      "\n"
     ]
    }
   ],
   "source": [
    "spark.sql(\"select * from Churn_Geo2\").show()"
   ]
  },
  {
   "cell_type": "code",
   "execution_count": null,
   "metadata": {},
   "outputs": [],
   "source": []
  }
 ],
 "metadata": {
  "interpreter": {
   "hash": "71046af2f65c12de5be553af3af49a03a0746b5ef2338e39a62aea16fa296259"
  },
  "kernelspec": {
   "display_name": "Python 3.10.1 64-bit",
   "language": "python",
   "name": "python3"
  },
  "language_info": {
   "codemirror_mode": {
    "name": "ipython",
    "version": 3
   },
   "file_extension": ".py",
   "mimetype": "text/x-python",
   "name": "python",
   "nbconvert_exporter": "python",
   "pygments_lexer": "ipython3",
   "version": "3.10.1"
  },
  "orig_nbformat": 4
 },
 "nbformat": 4,
 "nbformat_minor": 2
}
