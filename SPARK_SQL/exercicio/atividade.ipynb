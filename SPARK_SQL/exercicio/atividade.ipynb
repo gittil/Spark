{
 "cells": [
  {
   "cell_type": "code",
   "execution_count": 1,
   "metadata": {},
   "outputs": [],
   "source": [
    "from pyspark.sql import SparkSession\n",
    "from pyspark.sql.types import *\n",
    "from pyspark.sql import functions as Func \n",
    "from pyspark.sql.functions import * "
   ]
  },
  {
   "cell_type": "code",
   "execution_count": 2,
   "metadata": {},
   "outputs": [],
   "source": [
    "#iniciando uma Spark Session\n",
    "spark = SparkSession.builder \\\n",
    "    .master(\"local\") \\\n",
    "        .appName(\"exercicioSparkSQL\") \\\n",
    "            .config(\"spark.driver.memory\",\"1g\") \\\n",
    "                .getOrCreate()"
   ]
  },
  {
   "cell_type": "markdown",
   "metadata": {},
   "source": [
    "1. Crie um banco de dados no DW do Spark chamado VendasVarejo, e persista todas as tabelas neste banco de dados"
   ]
  },
  {
   "cell_type": "code",
   "execution_count": 3,
   "metadata": {},
   "outputs": [
    {
     "data": {
      "text/plain": [
       "DataFrame[]"
      ]
     },
     "execution_count": 3,
     "metadata": {},
     "output_type": "execute_result"
    }
   ],
   "source": [
    "spark.sql(\"create database VendasVarejo\")"
   ]
  },
  {
   "cell_type": "code",
   "execution_count": 4,
   "metadata": {},
   "outputs": [
    {
     "name": "stdout",
     "output_type": "stream",
     "text": [
      "+------------+\n",
      "|   namespace|\n",
      "+------------+\n",
      "|     default|\n",
      "|vendasvarejo|\n",
      "+------------+\n",
      "\n"
     ]
    }
   ],
   "source": [
    "spark.sql(\"show databases\").show()"
   ]
  },
  {
   "cell_type": "code",
   "execution_count": 5,
   "metadata": {},
   "outputs": [
    {
     "data": {
      "text/plain": [
       "DataFrame[]"
      ]
     },
     "execution_count": 5,
     "metadata": {},
     "output_type": "execute_result"
    }
   ],
   "source": [
    "spark.sql(\"use vendasvarejo\")"
   ]
  },
  {
   "cell_type": "code",
   "execution_count": 6,
   "metadata": {},
   "outputs": [],
   "source": [
    "clientes = spark.read.format(\"parquet\").load(\"D:\\downloads\\Atividades\\Clientes.parquet\")\n",
    "itensVendas = spark.read.format(\"parquet\").load(\"D:\\downloads\\Atividades\\ItensVendas.parquet\")\n",
    "produtos = spark.read.format(\"parquet\").load(\"D:\\downloads\\Atividades\\Produtos.parquet\")\n",
    "vendas = spark.read.format(\"parquet\").load(\"D:\\downloads\\Atividades\\Vendas.parquet\")\n",
    "vendedores = spark.read.format(\"parquet\").load(\"D:\\downloads\\Atividades\\Vendedores.parquet\")"
   ]
  },
  {
   "cell_type": "code",
   "execution_count": 7,
   "metadata": {},
   "outputs": [
    {
     "name": "stdout",
     "output_type": "stream",
     "text": [
      "+---------+--------------------+------+------+--------+\n",
      "|ClienteID|             Cliente|Estado|Genero|  Status|\n",
      "+---------+--------------------+------+------+--------+\n",
      "|        1|Adelina Buenaventura|    RJ|     M|  Silver|\n",
      "|        2|        Adelino Gago|    RJ|     M|  Silver|\n",
      "|        3|     Adolfo Patrício|    PE|     M|  Silver|\n",
      "|        4|    Adriana Guedelha|    RO|     F|Platinum|\n",
      "|        5|       Adélio Lisboa|    SE|     M|  Silver|\n",
      "|        6|       Adérito Bahía|    MA|     M|  Silver|\n",
      "|        7|       Aida Dorneles|    RN|     F|  Silver|\n",
      "|        8|   Alarico Quinterno|    AC|     M|  Silver|\n",
      "|        9|    Alberto Cezimbra|    AM|     M|  Silver|\n",
      "|       10|    Alberto Monsanto|    RN|     M|    Gold|\n",
      "|       11|       Albino Canela|    AC|     M|  Silver|\n",
      "|       12|     Alceste Varanda|    RR|     F|  Silver|\n",
      "|       13|  Alcides Carvalhais|    RO|     M|  Silver|\n",
      "|       14|        Aldo Martins|    GO|     M|  Silver|\n",
      "|       15|   Alexandra Tabares|    MG|     F|  Silver|\n",
      "|       16|      Alfredo Cotrim|    SC|     M|  Silver|\n",
      "|       17|     Almeno Figueira|    SC|     M|  Silver|\n",
      "|       18|      Alvito Peralta|    AM|     M|  Silver|\n",
      "|       19|     Amadeu Martinho|    RN|     M|  Silver|\n",
      "|       20|      Amélia Estévez|    PE|     F|  Silver|\n",
      "+---------+--------------------+------+------+--------+\n",
      "only showing top 20 rows\n",
      "\n"
     ]
    }
   ],
   "source": [
    "clientes.show()"
   ]
  },
  {
   "cell_type": "code",
   "execution_count": 8,
   "metadata": {},
   "outputs": [
    {
     "name": "stdout",
     "output_type": "stream",
     "text": [
      "+---------+--------+----------+-------------+----------+--------+----------------+\n",
      "|ProdutoID|VendasID|Quantidade|ValorUnitario|ValorTotal|Desconto|TotalComDesconto|\n",
      "+---------+--------+----------+-------------+----------+--------+----------------+\n",
      "|        2|     400|         2|       9201.0|   18402.0| 6256,68|        12145.32|\n",
      "|        2|     385|         2|       9201.0|   18402.0| 5704,62|        12697.38|\n",
      "|        4|     395|         2|       6892.2|   13784.4| 5100,23|         8684.17|\n",
      "|        4|     367|         2|       6509.3|   13018.6| 4816,88|         8201.72|\n",
      "|        2|     380|         2|      7038.77|  14077.54| 4364,04|          9713.5|\n",
      "|        2|     346|         2|       8280.9|   16561.8| 4140,45|        12421.35|\n",
      "|        2|     339|         2|       8280.9|   16561.8| 3312,36|        13249.44|\n",
      "|        2|     397|         1|       9201.0|    9201.0| 3312,36|         5888.64|\n",
      "|        1|     346|         2|       7966.8|   15933.6| 3186,72|        12746.88|\n",
      "|        2|     264|         2|       8280.9|   16561.8| 3146,74|        13415.06|\n",
      "|        4|     355|         2|      5858.37|  11716.74| 3046,35|         8670.39|\n",
      "|        2|     376|         1|       8280.9|    8280.9| 2981,12|         5299.78|\n",
      "|        2|     374|         1|       9201.0|    9201.0| 2944,32|         6256.68|\n",
      "|        1|     397|         1|       7524.2|    7524.2| 2859,20|          4665.0|\n",
      "|        2|     303|         2|       8280.9|   16561.8| 2815,51|        13746.29|\n",
      "|        4|     358|         2|       6509.3|   13018.6| 2733,91|        10284.69|\n",
      "|        4|     374|         1|       7658.0|    7658.0| 2527,14|         5130.86|\n",
      "|        3|     336|         2|       4255.0|    8510.0| 2467,90|          6042.1|\n",
      "|        1|     399|         1|      6771.78|   6771.78| 2437,84|         4333.94|\n",
      "|        1|     292|         2|      6771.78|  13543.56| 2437,84|        11105.72|\n",
      "+---------+--------+----------+-------------+----------+--------+----------------+\n",
      "only showing top 20 rows\n",
      "\n"
     ]
    }
   ],
   "source": [
    "itensVendas.show()"
   ]
  },
  {
   "cell_type": "code",
   "execution_count": 9,
   "metadata": {},
   "outputs": [
    {
     "name": "stdout",
     "output_type": "stream",
     "text": [
      "+---------+--------------------+---------+\n",
      "|ProdutoID|             Produto|    Preco|\n",
      "+---------+--------------------+---------+\n",
      "|        1|Bicicleta Aro 29 ...|8.852,00 |\n",
      "|        2|Bicicleta Altools...|9.201,00 |\n",
      "|        3|Bicicleta Gts Adv...|4.255,00 |\n",
      "|        4|Bicicleta Trinc C...|7.658,00 |\n",
      "|        5|Bicicleta Gometws...|2.966,00 |\n",
      "|        6|Bicicleta Gometws...|2.955,00 |\n",
      "|        7|Capacete Gometws ...|  155,00 |\n",
      "|        8|Luva De Ciclismo ...|  188,00 |\n",
      "|        9|Bermuda Predactor...|  115,00 |\n",
      "|       10|Camiseta Predacto...|  135,00 |\n",
      "+---------+--------------------+---------+\n",
      "\n"
     ]
    }
   ],
   "source": [
    "produtos.show()"
   ]
  },
  {
   "cell_type": "code",
   "execution_count": 10,
   "metadata": {},
   "outputs": [
    {
     "name": "stdout",
     "output_type": "stream",
     "text": [
      "+--------+----------+---------+---------+--------+\n",
      "|VendasID|VendedorID|ClienteID|     Data|   Total|\n",
      "+--------+----------+---------+---------+--------+\n",
      "|       1|         1|       91| 1/1/2019|  8053.6|\n",
      "|       2|         6|      185| 1/1/2020|   150.4|\n",
      "|       3|         7|       31| 2/1/2020|  6087.0|\n",
      "|       4|         5|       31| 2/1/2019| 13828.6|\n",
      "|       5|         5|       31| 3/1/2018|26096.66|\n",
      "|       6|         5|       31| 4/1/2020| 18402.0|\n",
      "|       7|         5|       31| 6/1/2019|  7524.2|\n",
      "|       8|         5|      186| 6/1/2019| 12036.6|\n",
      "|       9|         7|       91| 6/1/2020| 2804.75|\n",
      "|      10|         2|      202| 6/1/2020|  8852.0|\n",
      "|      11|         7|       58| 8/1/2019|16545.25|\n",
      "|      12|         7|       58| 9/1/2018|11411.88|\n",
      "|      13|         7|       58|10/1/2019| 15829.7|\n",
      "|      14|         3|      249|12/1/2020| 6154.36|\n",
      "|      15|         4|      249|12/1/2018| 3255.08|\n",
      "|      16|         7|      192|13/1/2020| 2901.25|\n",
      "|      17|         2|       79|13/1/2019| 15829.7|\n",
      "|      18|        10|       79|14/1/2019|16996.36|\n",
      "|      19|        10|      191|14/1/2019|   155.0|\n",
      "|      20|         9|      218|15/1/2018|  131.75|\n",
      "+--------+----------+---------+---------+--------+\n",
      "only showing top 20 rows\n",
      "\n"
     ]
    }
   ],
   "source": [
    "vendas.show()"
   ]
  },
  {
   "cell_type": "code",
   "execution_count": 11,
   "metadata": {},
   "outputs": [
    {
     "name": "stdout",
     "output_type": "stream",
     "text": [
      "+----------+----------------+\n",
      "|VendedorID|        Vendedor|\n",
      "+----------+----------------+\n",
      "|         1|    Armando Lago|\n",
      "|         2|Capitolino Bahía|\n",
      "|         3|   Daniel Pirajá|\n",
      "|         4| Godo Capiperibe|\n",
      "|         5|  Hélio Liberato|\n",
      "|         6|   Iberê Lacerda|\n",
      "|         7|Jéssica Castelão|\n",
      "|         8| Napoleão Méndez|\n",
      "|         9|    Simão Rivero|\n",
      "|        10|  Tobias Furtado|\n",
      "+----------+----------------+\n",
      "\n"
     ]
    }
   ],
   "source": [
    "vendedores.show()"
   ]
  },
  {
   "cell_type": "code",
   "execution_count": 12,
   "metadata": {},
   "outputs": [],
   "source": [
    "clientes.write.saveAsTable(\"Clientes\")\n",
    "itensVendas.write.saveAsTable(\"ItensVendas\")\n",
    "produtos.write.saveAsTable(\"Produtos\")\n",
    "vendas.write.saveAsTable(\"Vendas\")\n",
    "vendedores.write.saveAsTable(\"Vendedores\")"
   ]
  },
  {
   "cell_type": "code",
   "execution_count": 14,
   "metadata": {},
   "outputs": [
    {
     "name": "stdout",
     "output_type": "stream",
     "text": [
      "+------------+-----------+-----------+\n",
      "|   namespace|  tableName|isTemporary|\n",
      "+------------+-----------+-----------+\n",
      "|vendasvarejo|   clientes|      false|\n",
      "|vendasvarejo|itensvendas|      false|\n",
      "|vendasvarejo|   produtos|      false|\n",
      "|vendasvarejo|     vendas|      false|\n",
      "|vendasvarejo| vendedores|      false|\n",
      "+------------+-----------+-----------+\n",
      "\n"
     ]
    }
   ],
   "source": [
    "spark.sql(\"show tables\").show()"
   ]
  },
  {
   "cell_type": "markdown",
   "metadata": {},
   "source": [
    "2. Crie uma consulta que mostre de cada item vendido: Nome do cliente, Data da Venda, Produto, Vendedor e Valor Total do item"
   ]
  },
  {
   "cell_type": "code",
   "execution_count": 31,
   "metadata": {},
   "outputs": [],
   "source": [
    "consulta = spark.sql(\"select itensvendas.*, vendas.ClienteID, clientes.Cliente, vendas.data, produtos.produto, vendedores.vendedor from vendedores, itensvendas, vendas, clientes, produtos WHERE itensvendas.vendasid = vendas.vendasid AND vendas.clienteid = clientes.clienteid AND itensvendas.produtoid = produtos.produtoid AND vendas.vendedorid = vendedores.vendedorid\")"
   ]
  },
  {
   "cell_type": "code",
   "execution_count": 32,
   "metadata": {},
   "outputs": [
    {
     "data": {
      "text/plain": [
       "940"
      ]
     },
     "execution_count": 32,
     "metadata": {},
     "output_type": "execute_result"
    }
   ],
   "source": [
    "consulta.count()"
   ]
  },
  {
   "cell_type": "code",
   "execution_count": 33,
   "metadata": {},
   "outputs": [
    {
     "data": {
      "text/plain": [
       "940"
      ]
     },
     "execution_count": 33,
     "metadata": {},
     "output_type": "execute_result"
    }
   ],
   "source": [
    "itensVendas.count()"
   ]
  },
  {
   "cell_type": "code",
   "execution_count": 36,
   "metadata": {},
   "outputs": [
    {
     "name": "stdout",
     "output_type": "stream",
     "text": [
      "+---------+--------+----------+-------------+----------+--------+----------------+---------+-----------------+--------+--------------------+----------------+\n",
      "|ProdutoID|VendasID|Quantidade|ValorUnitario|ValorTotal|Desconto|TotalComDesconto|ClienteID|          Cliente|    data|             produto|        vendedor|\n",
      "+---------+--------+----------+-------------+----------+--------+----------------+---------+-----------------+--------+--------------------+----------------+\n",
      "|        2|       1|         1|      7820.85|   7820.85|     -  |         7820.85|       91|   Cosme Zambujal|1/1/2019|Bicicleta Altools...|    Armando Lago|\n",
      "|        9|       1|         1|        97.75|     97.75|    0,98|           96.77|       91|   Cosme Zambujal|1/1/2019|Bermuda Predactor...|    Armando Lago|\n",
      "|       10|       1|         1|        135.0|     135.0|    1,35|          133.65|       91|   Cosme Zambujal|1/1/2019|Camiseta Predacto...|    Armando Lago|\n",
      "|        8|       2|         1|        150.4|     150.4|    1,50|           148.9|      185|Gertrudes Hidalgo|1/1/2020|Luva De Ciclismo ...|   Iberê Lacerda|\n",
      "|        7|       3|         1|        155.0|     155.0|     -  |           155.0|       31| Antão Corte-Real|2/1/2020|Capacete Gometws ...|Jéssica Castelão|\n",
      "|        5|       3|         2|       2966.0|    5932.0|     -  |          5932.0|       31| Antão Corte-Real|2/1/2020|Bicicleta Gometws...|Jéssica Castelão|\n",
      "|        2|       4|         1|      7820.85|   7820.85|     -  |         7820.85|       31| Antão Corte-Real|2/1/2019|Bicicleta Altools...|  Hélio Liberato|\n",
      "|        9|       4|         1|        97.75|     97.75|    0,98|           96.77|       31| Antão Corte-Real|2/1/2019|Bermuda Predactor...|  Hélio Liberato|\n",
      "|        6|       4|         2|       2955.0|    5910.0|   59,10|          5850.9|       31| Antão Corte-Real|2/1/2019|Bicicleta Gometws...|  Hélio Liberato|\n",
      "|        6|       5|         1|       2955.0|    2955.0|     -  |          2955.0|       31| Antão Corte-Real|3/1/2018|Bicicleta Gometws...|  Hélio Liberato|\n",
      "|        4|       5|         1|       7658.0|    7658.0|     -  |          7658.0|       31| Antão Corte-Real|3/1/2018|Bicicleta Trinc C...|  Hélio Liberato|\n",
      "|        1|       5|         1|       8852.0|    8852.0|     -  |          8852.0|       31| Antão Corte-Real|3/1/2018|Bicicleta Aro 29 ...|  Hélio Liberato|\n",
      "|       10|       5|         1|        121.5|     121.5|    1,22|          120.29|       31| Antão Corte-Real|3/1/2018|Camiseta Predacto...|  Hélio Liberato|\n",
      "|        3|       5|         2|      3255.08|   6510.16|   65,10|         6445.06|       31| Antão Corte-Real|3/1/2018|Bicicleta Gts Adv...|  Hélio Liberato|\n",
      "|        2|       6|         2|       9201.0|   18402.0|  184,02|        18217.98|       31| Antão Corte-Real|4/1/2020|Bicicleta Altools...|  Hélio Liberato|\n",
      "|        1|       7|         1|       7524.2|    7524.2|     -  |          7524.2|       31| Antão Corte-Real|6/1/2019|Bicicleta Aro 29 ...|  Hélio Liberato|\n",
      "|        8|       8|         2|        188.0|     376.0|     -  |           376.0|      186|Gertrudes Infante|6/1/2019|Luva De Ciclismo ...|  Hélio Liberato|\n",
      "|        3|       8|         1|      3616.75|   3616.75|     -  |         3616.75|      186|Gertrudes Infante|6/1/2019|Bicicleta Gts Adv...|  Hélio Liberato|\n",
      "|       10|       8|         1|        108.0|     108.0|    1,08|          106.92|      186|Gertrudes Infante|6/1/2019|Camiseta Predacto...|  Hélio Liberato|\n",
      "|        9|       8|         1|        115.0|     115.0|    1,15|          113.85|      186|Gertrudes Infante|6/1/2019|Bermuda Predactor...|  Hélio Liberato|\n",
      "+---------+--------+----------+-------------+----------+--------+----------------+---------+-----------------+--------+--------------------+----------------+\n",
      "only showing top 20 rows\n",
      "\n"
     ]
    }
   ],
   "source": [
    "consulta.show()"
   ]
  },
  {
   "cell_type": "markdown",
   "metadata": {},
   "source": [
    "### Solução apresentada pelo professor"
   ]
  },
  {
   "cell_type": "code",
   "execution_count": 34,
   "metadata": {},
   "outputs": [],
   "source": [
    "consulta2 = spark.sql(\"select c.cliente, v.data, p.produto, vd.vendedor, iv.valortotal from itensvendas iv inner join produtos p on (p.produtoid = iv.produtoid) inner join vendas v on (v.vendasid = iv.vendasid) inner join vendedores vd on (vd.vendedorid = v.vendedorid) inner join clientes c on (c.clienteid = v.clienteid)\")"
   ]
  },
  {
   "cell_type": "code",
   "execution_count": 35,
   "metadata": {},
   "outputs": [
    {
     "data": {
      "text/plain": [
       "940"
      ]
     },
     "execution_count": 35,
     "metadata": {},
     "output_type": "execute_result"
    }
   ],
   "source": [
    "consulta2.count()"
   ]
  },
  {
   "cell_type": "code",
   "execution_count": 37,
   "metadata": {},
   "outputs": [
    {
     "name": "stdout",
     "output_type": "stream",
     "text": [
      "+--------------------+----------+--------------------+----------------+----------+\n",
      "|             cliente|      data|             produto|        vendedor|valortotal|\n",
      "+--------------------+----------+--------------------+----------------+----------+\n",
      "|    Humberto Almeida|28/12/2019|Bicicleta Altools...|   Iberê Lacerda|   18402.0|\n",
      "|   Bárbara Magalhães|15/12/2020|Bicicleta Altools...|  Hélio Liberato|   18402.0|\n",
      "|        Artur Macedo|22/12/2018|Bicicleta Trinc C...|  Hélio Liberato|   13784.4|\n",
      "|    Dinarte Tabalipa| 1/12/2020|Bicicleta Trinc C...|   Daniel Pirajá|   13018.6|\n",
      "|      Humberto Lemes|12/12/2019|Bicicleta Altools...|    Simão Rivero|  14077.54|\n",
      "|    Antão Corte-Real|16/11/2018|Bicicleta Altools...|   Iberê Lacerda|   16561.8|\n",
      "|Cândido Sousa do ...|10/11/2018|Bicicleta Altools...|   Daniel Pirajá|   16561.8|\n",
      "|      Brígida Gusmão|23/12/2019|Bicicleta Altools...|  Hélio Liberato|    9201.0|\n",
      "|    Antão Corte-Real|16/11/2018|Bicicleta Aro 29 ...|   Iberê Lacerda|   15933.6|\n",
      "|   Gertrudes Rabello|  5/9/2019|Bicicleta Altools...|  Hélio Liberato|   16561.8|\n",
      "|       Adélio Lisboa|23/11/2019|Bicicleta Trinc C...|  Hélio Liberato|  11716.74|\n",
      "|   Francisca Ramallo| 9/12/2020|Bicicleta Altools...|Jéssica Castelão|    8280.9|\n",
      "|       Adélio Lisboa| 5/12/2019|Bicicleta Altools...|    Armando Lago|    9201.0|\n",
      "|      Brígida Gusmão|23/12/2019|Bicicleta Aro 29 ...|  Hélio Liberato|    7524.2|\n",
      "|    Antão Corte-Real|15/10/2020|Bicicleta Altools...|    Armando Lago|   16561.8|\n",
      "|Cândido Sousa do ...|24/11/2018|Bicicleta Trinc C...|Jéssica Castelão|   13018.6|\n",
      "|       Adélio Lisboa| 5/12/2019|Bicicleta Trinc C...|    Armando Lago|    7658.0|\n",
      "|     Adolfo Patrício| 7/11/2020|Bicicleta Gts Adv...|  Hélio Liberato|    8510.0|\n",
      "|      Brígida Gusmão|25/12/2019|Bicicleta Aro 29 ...| Godo Capiperibe|   6771.78|\n",
      "|       Adélio Lisboa| 29/9/2020|Bicicleta Aro 29 ...|Jéssica Castelão|  13543.56|\n",
      "+--------------------+----------+--------------------+----------------+----------+\n",
      "only showing top 20 rows\n",
      "\n"
     ]
    }
   ],
   "source": [
    "consulta2.show()"
   ]
  }
 ],
 "metadata": {
  "interpreter": {
   "hash": "71046af2f65c12de5be553af3af49a03a0746b5ef2338e39a62aea16fa296259"
  },
  "kernelspec": {
   "display_name": "Python 3.10.1 64-bit",
   "language": "python",
   "name": "python3"
  },
  "language_info": {
   "codemirror_mode": {
    "name": "ipython",
    "version": 3
   },
   "file_extension": ".py",
   "mimetype": "text/x-python",
   "name": "python",
   "nbconvert_exporter": "python",
   "pygments_lexer": "ipython3",
   "version": "3.10.1"
  },
  "orig_nbformat": 4
 },
 "nbformat": 4,
 "nbformat_minor": 2
}
